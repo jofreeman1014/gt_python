{
 "cells": [
  {
   "cell_type": "code",
   "execution_count": 68,
   "metadata": {},
   "outputs": [
    {
     "data": {
      "text/html": [
       "<div>\n",
       "<style scoped>\n",
       "    .dataframe tbody tr th:only-of-type {\n",
       "        vertical-align: middle;\n",
       "    }\n",
       "\n",
       "    .dataframe tbody tr th {\n",
       "        vertical-align: top;\n",
       "    }\n",
       "\n",
       "    .dataframe thead th {\n",
       "        text-align: right;\n",
       "    }\n",
       "</style>\n",
       "<table border=\"1\" class=\"dataframe\">\n",
       "  <thead>\n",
       "    <tr style=\"text-align: right;\">\n",
       "      <th></th>\n",
       "      <th>city</th>\n",
       "      <th>date</th>\n",
       "      <th>fare</th>\n",
       "      <th>ride_id</th>\n",
       "      <th>driver_count</th>\n",
       "      <th>type</th>\n",
       "    </tr>\n",
       "  </thead>\n",
       "  <tbody>\n",
       "    <tr>\n",
       "      <th>0</th>\n",
       "      <td>Lake Jonathanshire</td>\n",
       "      <td>2018-01-14 10:14:22</td>\n",
       "      <td>13.83</td>\n",
       "      <td>5739410935873</td>\n",
       "      <td>5</td>\n",
       "      <td>Urban</td>\n",
       "    </tr>\n",
       "    <tr>\n",
       "      <th>1</th>\n",
       "      <td>Lake Jonathanshire</td>\n",
       "      <td>2018-04-07 20:51:11</td>\n",
       "      <td>31.25</td>\n",
       "      <td>4441251834598</td>\n",
       "      <td>5</td>\n",
       "      <td>Urban</td>\n",
       "    </tr>\n",
       "    <tr>\n",
       "      <th>2</th>\n",
       "      <td>Lake Jonathanshire</td>\n",
       "      <td>2018-03-09 23:45:55</td>\n",
       "      <td>19.89</td>\n",
       "      <td>2389495660448</td>\n",
       "      <td>5</td>\n",
       "      <td>Urban</td>\n",
       "    </tr>\n",
       "    <tr>\n",
       "      <th>3</th>\n",
       "      <td>Lake Jonathanshire</td>\n",
       "      <td>2018-04-07 18:09:21</td>\n",
       "      <td>24.28</td>\n",
       "      <td>7796805191168</td>\n",
       "      <td>5</td>\n",
       "      <td>Urban</td>\n",
       "    </tr>\n",
       "    <tr>\n",
       "      <th>4</th>\n",
       "      <td>Lake Jonathanshire</td>\n",
       "      <td>2018-01-02 14:14:50</td>\n",
       "      <td>13.89</td>\n",
       "      <td>424254840012</td>\n",
       "      <td>5</td>\n",
       "      <td>Urban</td>\n",
       "    </tr>\n",
       "  </tbody>\n",
       "</table>\n",
       "</div>"
      ],
      "text/plain": [
       "                 city                 date   fare        ride_id  \\\n",
       "0  Lake Jonathanshire  2018-01-14 10:14:22  13.83  5739410935873   \n",
       "1  Lake Jonathanshire  2018-04-07 20:51:11  31.25  4441251834598   \n",
       "2  Lake Jonathanshire  2018-03-09 23:45:55  19.89  2389495660448   \n",
       "3  Lake Jonathanshire  2018-04-07 18:09:21  24.28  7796805191168   \n",
       "4  Lake Jonathanshire  2018-01-02 14:14:50  13.89   424254840012   \n",
       "\n",
       "   driver_count   type  \n",
       "0             5  Urban  \n",
       "1             5  Urban  \n",
       "2             5  Urban  \n",
       "3             5  Urban  \n",
       "4             5  Urban  "
      ]
     },
     "execution_count": 68,
     "metadata": {},
     "output_type": "execute_result"
    }
   ],
   "source": [
    "%matplotlib inline\n",
    "# Dependencies and Setup\n",
    "import matplotlib.pyplot as plt\n",
    "import pandas as pd\n",
    "import numpy as np\n",
    "\n",
    "# File to Load (Remember to change these)\n",
    "city_data_to_load = \"data/city_data.csv\"\n",
    "ride_data_to_load = \"data/ride_data.csv\"\n",
    "\n",
    "# Read the City and Ride Data\n",
    "city_df = pd.read_csv(city_data_to_load)\n",
    "ride_df = pd.read_csv(ride_data_to_load)\n",
    "\n",
    "# Combine the data into a single dataset\n",
    "pyber_df = pd.merge(ride_df, city_df, on=\"city\",how = \"outer\")\n",
    "\n",
    "# Display the data table for preview\n",
    "pyber_df.head()\n",
    "#city_df\n",
    "#ride_df.head()\n",
    "#pyber_df.describe()\n",
    "\n",
    "#hel = pyber_df[\"driver_count\"].sum()\n",
    "#hel\n"
   ]
  },
  {
   "cell_type": "code",
   "execution_count": null,
   "metadata": {
    "scrolled": true
   },
   "outputs": [],
   "source": []
  },
  {
   "cell_type": "markdown",
   "metadata": {},
   "source": [
    "## Bubble Plot of Ride Sharing Data"
   ]
  },
  {
   "cell_type": "code",
   "execution_count": 72,
   "metadata": {},
   "outputs": [
    {
     "data": {
      "text/plain": [
       "<matplotlib.collections.PathCollection at 0x1dfa827c128>"
      ]
     },
     "execution_count": 72,
     "metadata": {},
     "output_type": "execute_result"
    },
    {
     "data": {
      "image/png": "[encoded data removed]",
      "text/plain": [
       "<Figure size 432x288 with 1 Axes>"
      ]
     },
     "metadata": {
      "needs_background": "light"
     },
     "output_type": "display_data"
    }
   ],
   "source": [
    "# Obtain the x and y coordinates for each of the three city types\n",
    "citype_df = pyber_df[[\"city\",\"fare\",\"driver_count\",\"type\"]].copy()\n",
    "\n",
    "# === URBAN ===\n",
    "urban_df = pyber_df.loc[pyber_df[\"type\"] == \"Urban\"]\n",
    "urban_group = urban_df.groupby(\"city\")\n",
    "urban_x = pd.DataFrame(urban_group[\"fare\"].count()) #total # of rides/city\n",
    "urban_y = pd.DataFrame(urban_group[\"fare\"].mean()) #avg fare\n",
    "urban_z = pd.DataFrame(urban_group[\"driver_count\"].mean())\n",
    "\n",
    "# === SUBURBAN ===\n",
    "subrb_df = pyber_df.loc[pyber_df[\"type\"] == \"Suburban\"]\n",
    "subrb_group = subrb_df.groupby(\"city\")\n",
    "subrb_x = pd.DataFrame(subrb_group[\"fare\"].count()) #total # of rides/city\n",
    "subrb_y = pd.DataFrame(subrb_group[\"fare\"].mean()) #avg fare\n",
    "subrb_z = pd.DataFrame(subrb_group[\"driver_count\"].mean())\n",
    "\n",
    "# === RURAL ===\n",
    "rural_df = pyber_df.loc[pyber_df[\"type\"] == \"Rural\"]\n",
    "rural_group = rural_df.groupby(\"city\")\n",
    "rural_x = pd.DataFrame(rural_group[\"fare\"].count()) #total # of rides/city\n",
    "rural_y = pd.DataFrame(rural_group[\"fare\"].mean()) #avg fare\n",
    "rural_z = pd.DataFrame(rural_group[\"driver_count\"].mean())\n",
    "\n",
    "\n",
    "# from before\n",
    "citype_group = citype_df.groupby(\"city\")\n",
    "citype_x = pd.DataFrame(citype_group[\"fare\"].count()) #total # of rides/city\n",
    "citype_y = pd.DataFrame(citype_group[\"fare\"].mean()) #avg fare\n",
    "citype_z = pd.DataFrame(citype_group[\"driver_count\"].mean())\n",
    "\n",
    "#z_scale = citype_z/(pyber_df[\"driver_count\"].sum())\n",
    "\n",
    "#typedf = citype_df.groupby(\"type\")\n",
    "#typedf.head()\n",
    "#urban = pd.DataFrame(typedf)\n",
    "\n",
    "\n",
    "# Build the scatter plots for each city types\n",
    "plt.figure()\n",
    "#plt.scatter(citype_x,citype_y,s=citype_z)\n",
    "plt.scatter(urban_x,urban_y,s=urban_z)\n",
    "plt.scatter(subrb_x,subrb_y,s=subrb_z)\n",
    "plt.scatter(rural_x,rural_y,s=rural_z)\n",
    "\n",
    "#plt.scatter(urbanx,urbany)#,s=citype_z)\n",
    "\n",
    "# Incorporate the other graph properties\n",
    "#plt.title(\"NYC Gym Popularity\")\n",
    "#plt.xlabel(\"Gym Name\")\n",
    "#plt.ylabel(\"Number of Members\")\n",
    "# Create a legend\n",
    "\n",
    "# Incorporate a text label regarding circle size\n",
    "\n",
    "# Save Figure\n",
    "\n",
    "\n",
    "#Things I need to plot:\n",
    "# - # of rides per city\n",
    "# - average fare\n",
    "# - # of drivers per city"
   ]
  },
  {
   "cell_type": "code",
   "execution_count": 11,
   "metadata": {},
   "outputs": [],
   "source": [
    "# Show plot\n",
    "plt.show()"
   ]
  },
  {
   "cell_type": "markdown",
   "metadata": {},
   "source": [
    "## Total Fares by City Type"
   ]
  },
  {
   "cell_type": "code",
   "execution_count": 12,
   "metadata": {},
   "outputs": [
    {
     "data": {
      "text/plain": [
       "([<matplotlib.patches.Wedge at 0x1dfa6c92a90>,\n",
       "  <matplotlib.patches.Wedge at 0x1dfa6ca01d0>,\n",
       "  <matplotlib.patches.Wedge at 0x1dfa6ca0898>],\n",
       " [Text(1.0749106638891923, 0.23359594315247792, 'Rural'),\n",
       "  Text(0.2031702810667748, 1.0810743900820368, 'Suburban'),\n",
       "  Text(-0.46703268487791105, -1.1053870232890062, 'Urban')],\n",
       " [Text(0.5863149075759231, 0.12741596899226065, '6.8%'),\n",
       "  Text(0.11082015330914988, 0.5896769400447472, '30.5%'),\n",
       "  Text(-0.2724357328454481, -0.6448090969185869, '62.7%')])"
      ]
     },
     "execution_count": 12,
     "metadata": {},
     "output_type": "execute_result"
    },
    {
     "data": {
      "image/png": "[encoded data removed]",
      "text/plain": [
       "<Figure size 432x288 with 1 Axes>"
      ]
     },
     "metadata": {},
     "output_type": "display_data"
    }
   ],
   "source": [
    "# Calculate Type Percents\n",
    "pie1_df = pyber_df[[\"fare\",\"type\"]]\n",
    "fbt_df = pie1_df.groupby(\"type\")\n",
    "fbt_res = pd.DataFrame(fbt_df[\"fare\"].sum())\n",
    "fbt_lab = [\"Rural\",\"Suburban\",\"Urban\"]\n",
    "explode = (0,0,0.1)\n",
    "\n",
    "#fbt_res.head()\n",
    "\n",
    "# Build Pie Chart\n",
    "plt.figure()\n",
    "plt.pie(fbt_res[\"fare\"],labels = fbt_lab,explode = explode,autopct = \"%1.1f%%\")\n",
    "\n",
    "# Save Figure\n"
   ]
  },
  {
   "cell_type": "code",
   "execution_count": 13,
   "metadata": {},
   "outputs": [],
   "source": [
    "# Show Figure\n",
    "plt.show()"
   ]
  },
  {
   "cell_type": "markdown",
   "metadata": {},
   "source": [
    "## Total Rides by City Type"
   ]
  },
  {
   "cell_type": "code",
   "execution_count": 14,
   "metadata": {},
   "outputs": [
    {
     "data": {
      "text/plain": [
       "([<matplotlib.patches.Wedge at 0x1dfa6ce5780>,\n",
       "  <matplotlib.patches.Wedge at 0x1dfa6ce5e80>,\n",
       "  <matplotlib.patches.Wedge at 0x1dfa6cf2588>],\n",
       " [Text(1.0849974335199486, 0.1810540506454493, 'Rural'),\n",
       "  Text(0.4418649348526167, 1.0073506734735889, 'Suburban'),\n",
       "  Text(-0.6563376882639044, -1.0045998402171852, 'Urban')],\n",
       " [Text(0.5918167819199719, 0.09875675489751778, '5.3%'),\n",
       "  Text(0.24101723719233634, 0.5494640037128666, '26.3%'),\n",
       "  Text(-0.3828636514872775, -0.5860165734600246, '68.4%')])"
      ]
     },
     "execution_count": 14,
     "metadata": {},
     "output_type": "execute_result"
    },
    {
     "data": {
      "image/png": "[encoded data removed]",
      "text/plain": [
       "<Figure size 432x288 with 1 Axes>"
      ]
     },
     "metadata": {},
     "output_type": "display_data"
    }
   ],
   "source": [
    "# Calculate Ride Percents\n",
    "pie2_df = pyber_df[[\"ride_id\",\"type\"]]\n",
    "rbt_df = pie2_df.groupby(\"type\")\n",
    "rbt_res = pd.DataFrame(rbt_df[\"ride_id\"].count())\n",
    "rbt_lab = [\"Rural\",\"Suburban\",\"Urban\"]\n",
    "explode = (0,0,0.1)\n",
    "# Build Pie Chart\n",
    "plt.figure()\n",
    "plt.pie(rbt_res[\"ride_id\"],labels = rbt_lab,explode = explode,autopct = \"%1.1f%%\")\n",
    "\n",
    "# Save Figure\n"
   ]
  },
  {
   "cell_type": "code",
   "execution_count": 15,
   "metadata": {},
   "outputs": [],
   "source": [
    "# Show Figure\n",
    "plt.show()"
   ]
  },
  {
   "cell_type": "markdown",
   "metadata": {},
   "source": [
    "## Total Drivers by City Type"
   ]
  },
  {
   "cell_type": "code",
   "execution_count": 69,
   "metadata": {},
   "outputs": [
    {
     "data": {
      "text/plain": [
       "([<matplotlib.patches.Wedge at 0x1dfa814ec50>,\n",
       "  <matplotlib.patches.Wedge at 0x1dfa814c3c8>,\n",
       "  <matplotlib.patches.Wedge at 0x1dfa814ca90>],\n",
       " [Text(1.0962656423114, 0.09056291452671875, 'Rural'),\n",
       "  Text(0.8535056503417009, 0.6939222613771593, 'Suburban'),\n",
       "  Text(-0.9902603567968, -0.6777790390360819, 'Urban')],\n",
       " [Text(0.5979630776243999, 0.04939795337821022, '2.6%'),\n",
       "  Text(0.4655485365500186, 0.3785030516602687, '16.5%'),\n",
       "  Text(-0.5776518747981332, -0.39537110610438114, '80.9%')])"
      ]
     },
     "execution_count": 69,
     "metadata": {},
     "output_type": "execute_result"
    },
    {
     "data": {
      "image/png": "[encoded data removed]",
      "text/plain": [
       "<Figure size 432x288 with 1 Axes>"
      ]
     },
     "metadata": {},
     "output_type": "display_data"
    }
   ],
   "source": [
    "# Calculate Driver Percents\n",
    "pie3_df = pyber_df[[\"city\",\"driver_count\",\"type\"]].copy()\n",
    "pie3_df.drop_duplicates(subset = \"city\",keep = 'first', inplace = True)\n",
    "dbt_df = pie3_df.groupby(\"type\")\n",
    "dbt_res = pd.DataFrame(dbt_df[\"driver_count\"].sum())#.count()\n",
    "dbt_lab = [\"Rural\",\"Suburban\",\"Urban\"]\n",
    "\n",
    "#dbt_res\n",
    "\n",
    "#537+8570+59602\n",
    "# Build Pie Charts\n",
    "plt.figure()\n",
    "plt.pie(dbt_res[\"driver_count\"],labels = dbt_lab,explode = explode,autopct = \"%1.1f%%\")\n",
    "# Save Figure\n"
   ]
  },
  {
   "cell_type": "code",
   "execution_count": 17,
   "metadata": {
    "scrolled": true
   },
   "outputs": [],
   "source": [
    "# Show Figure\n",
    "plt.show()"
   ]
  },
  {
   "cell_type": "code",
   "execution_count": null,
   "metadata": {},
   "outputs": [],
   "source": []
  }
 ],
 "metadata": {
  "anaconda-cloud": {},
  "kernelspec": {
   "display_name": "Python 36 (PythonData)",
   "language": "python",
   "name": "pythondata"
  },
  "language_info": {
   "codemirror_mode": {
    "name": "ipython",
    "version": 3
   },
   "file_extension": ".py",
   "mimetype": "text/x-python",
   "name": "python",
   "nbconvert_exporter": "python",
   "pygments_lexer": "ipython3",
   "version": "3.7.3"
  }
 },
 "nbformat": 4,
 "nbformat_minor": 2
}
